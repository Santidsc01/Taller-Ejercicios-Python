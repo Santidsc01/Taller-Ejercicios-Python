{
  "nbformat": 4,
  "nbformat_minor": 0,
  "metadata": {
    "colab": {
      "name": "07_digitoVerificacion.ipynb",
      "provenance": [],
      "collapsed_sections": [],
      "authorship_tag": "ABX9TyOBuqgNzmx0MsGX8efgeXY5",
      "include_colab_link": true
    },
    "kernelspec": {
      "name": "python3",
      "display_name": "Python 3"
    },
    "language_info": {
      "name": "python"
    }
  },
  "cells": [
    {
      "cell_type": "markdown",
      "metadata": {
        "id": "view-in-github",
        "colab_type": "text"
      },
      "source": [
        "<a href=\"https://colab.research.google.com/github/Santidsc01/Taller-Ejercicios-Python/blob/main/07_digitoVerificacion.ipynb\" target=\"_parent\"><img src=\"https://colab.research.google.com/assets/colab-badge.svg\" alt=\"Open In Colab\"/></a>"
      ]
    },
    {
      "cell_type": "code",
      "execution_count": null,
      "metadata": {
        "id": "H5QgEK0zetxV"
      },
      "outputs": [],
      "source": [
        " import numpy as np"
      ]
    },
    {
      "cell_type": "markdown",
      "source": [
        "Los códigos ISBN-10 son códigos de 10dígitos  asignados por el publicador. El dígito de verificación para la identificaciónISBN-10 es un dígito o la letra X (para representar el número 10). Este dígito se selecciona dela siguiente forma0≤<bai≠0aknb(...akak−1a1a0)bn,bb>1bai60=⋅⋅223151na,bababa,bsta⋅s+b⋅t=mcd(a,b)aℤmppr∈ℤpℤprn∈ℤppnp...x1x2x10=i (mod 11)109i\n",
        "Codificar una función digito_verificacion(n) que reciba los primeros nueve digitos deun código y cuyo output sea: el código de verificación ISBN-10. (Ver pag. 291 Libro Kenneth,\"Discrete Mathematics and its applications\")\n"
      ],
      "metadata": {
        "id": "cpCQ4HLmev7l"
      }
    },
    {
      "cell_type": "code",
      "source": [
        "def digito_verificacion(n):\n",
        "  if(len(str(n))<9):\n",
        "    print('Hacen falta digitos para cumplir con los 9')\n",
        "\n",
        "  elif(len(str(n))>9):\n",
        "    print('Se necesitan menos digitos para cumplir con 9')\n",
        "\n",
        "  else:\n",
        "    sum = 0\n",
        "    for digito in str(n):\n",
        "      sum += int(digito)\n",
        "    z = sum % 11\n",
        "\n",
        "    if z == 10:\n",
        "      print(str(n)+'X')\n",
        "    else:\n",
        "      print(str(n)+str(z))\n"
      ],
      "metadata": {
        "id": "mCxsytHUez24"
      },
      "execution_count": null,
      "outputs": []
    },
    {
      "cell_type": "code",
      "source": [
        "digito_verificacion(545295455)"
      ],
      "metadata": {
        "id": "8HaPdwmoe9AR",
        "outputId": "4de516a5-3b88-417a-e486-f09f7d0dda7c",
        "colab": {
          "base_uri": "https://localhost:8080/"
        }
      },
      "execution_count": null,
      "outputs": [
        {
          "output_type": "stream",
          "name": "stdout",
          "text": [
            "5452954550\n"
          ]
        }
      ]
    }
  ]
}