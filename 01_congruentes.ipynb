{
  "nbformat": 4,
  "nbformat_minor": 0,
  "metadata": {
    "colab": {
      "name": "01_congruentes.ipynb",
      "provenance": [],
      "collapsed_sections": [],
      "authorship_tag": "ABX9TyOevS0HcpvsBvGUT9Xlo9Ev",
      "include_colab_link": true
    },
    "kernelspec": {
      "name": "python3",
      "display_name": "Python 3"
    },
    "language_info": {
      "name": "python"
    }
  },
  "cells": [
    {
      "cell_type": "markdown",
      "metadata": {
        "id": "view-in-github",
        "colab_type": "text"
      },
      "source": [
        "<a href=\"https://colab.research.google.com/github/Santidsc01/Taller-Ejercicios-Python/blob/main/01_congruentes.ipynb\" target=\"_parent\"><img src=\"https://colab.research.google.com/assets/colab-badge.svg\" alt=\"Open In Colab\"/></a>"
      ]
    },
    {
      "cell_type": "code",
      "source": [
        " import numpy as np"
      ],
      "metadata": {
        "id": "K0DMFz6WZYrX"
      },
      "execution_count": null,
      "outputs": []
    },
    {
      "cell_type": "markdown",
      "source": [
        "Defina una función son_congruentes(a,b,m) cuyo output es el string \"Si!\" si , \"NO!\"en caso contrario."
      ],
      "metadata": {
        "id": "nEE_hR1DYCcH"
      }
    },
    {
      "cell_type": "code",
      "source": [
        "def son_congruentes (a,b,m):\n",
        "  if((a<0) or (b<0)):\n",
        "    print('Por favor cambiar los valores a enteros positivos')\n",
        "\n",
        "  else:\n",
        "\n",
        "    if(a%m == b%m):\n",
        "      print('Si!')\n",
        "    else:\n",
        "      print ('No!')"
      ],
      "metadata": {
        "id": "zElZ4vFVYFXq"
      },
      "execution_count": null,
      "outputs": []
    },
    {
      "cell_type": "code",
      "source": [
        "son_congruentes (13,-19,6)"
      ],
      "metadata": {
        "colab": {
          "base_uri": "https://localhost:8080/"
        },
        "id": "9GaFKrNYaTUR",
        "outputId": "f19ced00-5319-427c-ea96-1c9e5a179c58"
      },
      "execution_count": null,
      "outputs": [
        {
          "output_type": "stream",
          "name": "stdout",
          "text": [
            "Por favor cambiar los valores a enteros positivos\n"
          ]
        }
      ]
    }
  ]
}