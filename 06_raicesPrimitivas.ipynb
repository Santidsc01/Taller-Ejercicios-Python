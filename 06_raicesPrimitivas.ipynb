{
  "nbformat": 4,
  "nbformat_minor": 0,
  "metadata": {
    "colab": {
      "name": "06_raicesPrimitivas.ipynb",
      "provenance": [],
      "collapsed_sections": [],
      "authorship_tag": "ABX9TyNUUCVUhs/wYwxDgJdyDSkt",
      "include_colab_link": true
    },
    "kernelspec": {
      "name": "python3",
      "display_name": "Python 3"
    },
    "language_info": {
      "name": "python"
    }
  },
  "cells": [
    {
      "cell_type": "markdown",
      "metadata": {
        "id": "view-in-github",
        "colab_type": "text"
      },
      "source": [
        "<a href=\"https://colab.research.google.com/github/Santidsc01/Taller-Ejercicios-Python/blob/main/06_raicesPrimitivas.ipynb\" target=\"_parent\"><img src=\"https://colab.research.google.com/assets/colab-badge.svg\" alt=\"Open In Colab\"/></a>"
      ]
    },
    {
      "cell_type": "code",
      "execution_count": null,
      "metadata": {
        "id": "TgVFbvyBc2c6"
      },
      "outputs": [],
      "source": [
        " import numpy as np"
      ]
    },
    {
      "cell_type": "markdown",
      "source": [
        "Una raiz primitiva módulo (siendo  primo)es un entero  tal que todo elemento diferente de cero en  es una potencia de .Codificar una función es_raiz_primitiva(n,p) que reciba un número entero positivo  (o sea?) y un número primo  y cuyo output es \"Si!\" si es raiz primitiva módulo \"NO!\" en caso contrario."
      ],
      "metadata": {
        "id": "YKCw1uyMc4T3"
      }
    },
    {
      "cell_type": "code",
      "source": [
        "def es_raiz_primitiva(n,p):\n",
        "  if(n<1):\n",
        "    print('El valor n no es permitido')\n",
        "    \n",
        "  else:\n",
        "    z = n**(p-1)\n",
        "    if(z % p) == 1:\n",
        "      print('Si!')\n",
        "    else:\n",
        "      print('No!')"
      ],
      "metadata": {
        "id": "f7V9GwnQc71W"
      },
      "execution_count": null,
      "outputs": []
    },
    {
      "cell_type": "code",
      "source": [
        "es_raiz_primitiva(5,14)"
      ],
      "metadata": {
        "colab": {
          "base_uri": "https://localhost:8080/"
        },
        "id": "_s5PcpBbdYxO",
        "outputId": "46b7ab96-e3a2-41c2-d39b-68b121bb45bd"
      },
      "execution_count": null,
      "outputs": [
        {
          "output_type": "stream",
          "name": "stdout",
          "text": [
            "No!\n"
          ]
        }
      ]
    }
  ]
}