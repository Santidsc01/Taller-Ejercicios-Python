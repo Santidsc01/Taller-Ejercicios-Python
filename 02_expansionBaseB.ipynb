{
  "nbformat": 4,
  "nbformat_minor": 0,
  "metadata": {
    "colab": {
      "name": "02_expansionBaseB.ipynb",
      "provenance": [],
      "collapsed_sections": [],
      "authorship_tag": "ABX9TyMriUpm5hUrfgMC4NGqDGhP",
      "include_colab_link": true
    },
    "kernelspec": {
      "name": "python3",
      "display_name": "Python 3"
    },
    "language_info": {
      "name": "python"
    }
  },
  "cells": [
    {
      "cell_type": "markdown",
      "metadata": {
        "id": "view-in-github",
        "colab_type": "text"
      },
      "source": [
        "<a href=\"https://colab.research.google.com/github/Santidsc01/Taller-Ejercicios-Python/blob/main/02_expansionBaseB.ipynb\" target=\"_parent\"><img src=\"https://colab.research.google.com/assets/colab-badge.svg\" alt=\"Open In Colab\"/></a>"
      ]
    },
    {
      "cell_type": "code",
      "source": [
        " import numpy as np"
      ],
      "metadata": {
        "id": "hlf9WTpCbs7I"
      },
      "execution_count": null,
      "outputs": []
    },
    {
      "cell_type": "markdown",
      "source": [
        " Si , sabemos que dado un enteropositivo , este se puede expresar de forma única de la formaEjercicios Teoría de Números.Obervaciones:Enunciados:a≡b mod mb>1nn=++⋯++b+akbkak−1bk−1a2b2a1a0\n",
        "donde  y . Dicho de otra forma la expansión de  en base  es . Codifique una función expansion(n,b) que reciba enterospositivos con  y que tenga como output la representación en base  como una lista conlos valores , es decir: [a_k,a_{k-1},\\dots,a_1,a_0]. Por ejemploexpansion(12,2) el output será [1,1,0,0]."
      ],
      "metadata": {
        "id": "sMolrTegbWiv"
      }
    },
    {
      "cell_type": "code",
      "source": [
        "def expansion(n,b):\n",
        "  sobra=[]\n",
        "  while n!=0:\n",
        "    m=n%b\n",
        "    sobra.append(m)\n",
        "    n=n//b\n",
        "  lista = list(reversed(sobra))\n",
        "  print(lista)\n"
      ],
      "metadata": {
        "id": "abstWl_Rbt8K"
      },
      "execution_count": null,
      "outputs": []
    },
    {
      "cell_type": "code",
      "source": [
        "expansion(12,5)"
      ],
      "metadata": {
        "colab": {
          "base_uri": "https://localhost:8080/"
        },
        "id": "tfU9RKI4ckb5",
        "outputId": "361ac616-56eb-464f-fdea-3dae680bd10a"
      },
      "execution_count": null,
      "outputs": [
        {
          "output_type": "stream",
          "name": "stdout",
          "text": [
            "[2, 2]\n"
          ]
        }
      ]
    }
  ]
}