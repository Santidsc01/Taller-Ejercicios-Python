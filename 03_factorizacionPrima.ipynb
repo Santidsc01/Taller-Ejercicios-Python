{
  "nbformat": 4,
  "nbformat_minor": 0,
  "metadata": {
    "colab": {
      "name": "03_factorizacionPrima.ipynb",
      "provenance": [],
      "collapsed_sections": [],
      "authorship_tag": "ABX9TyNnJhn81SkbDGPSS1inPRF5",
      "include_colab_link": true
    },
    "kernelspec": {
      "name": "python3",
      "display_name": "Python 3"
    },
    "language_info": {
      "name": "python"
    }
  },
  "cells": [
    {
      "cell_type": "markdown",
      "metadata": {
        "id": "view-in-github",
        "colab_type": "text"
      },
      "source": [
        "<a href=\"https://colab.research.google.com/github/Santidsc01/Taller-Ejercicios-Python/blob/main/03_factorizacionPrima.ipynb\" target=\"_parent\"><img src=\"https://colab.research.google.com/assets/colab-badge.svg\" alt=\"Open In Colab\"/></a>"
      ]
    },
    {
      "cell_type": "code",
      "execution_count": null,
      "metadata": {
        "id": "qcfzRCW8tMMX"
      },
      "outputs": [],
      "source": [
        " import numpy as np"
      ]
    },
    {
      "cell_type": "markdown",
      "source": [
        "El Teorema Fundamental de la Aritméticamenciona que todo número se puede descomponer de forma única como producto de factoresprimos. Por ejemplo . Codifique una función factoriza(n) que reciba unentero positivo  y cuyo output sea un array donde la primera fila contiene los numeros primosde la factorización en orden ascendente y la segunda fila contiene las potenciascorrespondientes. Por ejemplo factoriza(60) el output será el numpy array[[2,3,5],[2,1,1]].Adicionalmente cree una función llamada test(?,?,..?) (como usted desee) que leayude a verificar los calculos que hizo la función factoriza."
      ],
      "metadata": {
        "id": "s11ScxXUtRR9"
      }
    },
    {
      "cell_type": "code",
      "source": [
        "def factoriza(n):\n",
        "  factoresp = []\n",
        "  z=0\n",
        "  for i in range(2, n+1):\n",
        "    while n%i==0:\n",
        "      factoresp.append(i)\n",
        "      n=n/i\n",
        "\n",
        "  print(factoresp)\n",
        "  \n"
      ],
      "metadata": {
        "id": "O0cmzxWytdFc"
      },
      "execution_count": 7,
      "outputs": []
    },
    {
      "cell_type": "markdown",
      "source": [
        "No fui capaz poniendo lo de las potencias:("
      ],
      "metadata": {
        "id": "9-Jj3qxXyPZB"
      }
    },
    {
      "cell_type": "code",
      "source": [
        "factoriza(60)"
      ],
      "metadata": {
        "colab": {
          "base_uri": "https://localhost:8080/"
        },
        "id": "VsUZD1KJwkhl",
        "outputId": "3df5f992-f0cb-4eef-df57-6419cd452dce"
      },
      "execution_count": 6,
      "outputs": [
        {
          "output_type": "stream",
          "name": "stdout",
          "text": [
            "[2, 2, 3, 5]\n"
          ]
        }
      ]
    }
  ]
}