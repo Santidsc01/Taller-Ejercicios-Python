{
  "nbformat": 4,
  "nbformat_minor": 0,
  "metadata": {
    "colab": {
      "name": "04_algEuclideano.ipynb",
      "provenance": [],
      "authorship_tag": "ABX9TyPquqCnn211bX6V+i60wqmT",
      "include_colab_link": true
    },
    "kernelspec": {
      "name": "python3",
      "display_name": "Python 3"
    },
    "language_info": {
      "name": "python"
    }
  },
  "cells": [
    {
      "cell_type": "markdown",
      "metadata": {
        "id": "view-in-github",
        "colab_type": "text"
      },
      "source": [
        "<a href=\"https://colab.research.google.com/github/Santidsc01/Taller-Ejercicios-Python/blob/main/04_algEuclideano.ipynb\" target=\"_parent\"><img src=\"https://colab.research.google.com/assets/colab-badge.svg\" alt=\"Open In Colab\"/></a>"
      ]
    },
    {
      "cell_type": "code",
      "execution_count": null,
      "metadata": {
        "id": "vBAp3lxO0n_Q"
      },
      "outputs": [],
      "source": [
        " import numpy as np"
      ]
    },
    {
      "cell_type": "markdown",
      "source": [
        "Codifique una función mcd(a,b)que recibados enteros positivos  y cuyo output sea el valor del máximo común divisor entre  y .Adicionalmente cree una función llamada primos_relativos(a,b) cuyo output es\"Si!\" si  y  sonprimos relativos y \"NO!\" en caso contrario."
      ],
      "metadata": {
        "id": "SAOtIhdI0v3p"
      }
    },
    {
      "cell_type": "code",
      "source": [
        "def mcd(a,b):\n",
        "  mcd=1\n",
        "\n",
        "  if a%b==0:\n",
        "    return b\n",
        "  \n",
        "  for i in range(int(b/2), 0, -1):\n",
        "    if (a % i == 0) and (b % i == 0):\n",
        "      mcd=i\n",
        "      break\n",
        "\n",
        "  return mcd\n",
        "      \n",
        "      \n",
        "\n"
      ],
      "metadata": {
        "id": "OjY47T-n0yjW"
      },
      "execution_count": 35,
      "outputs": []
    },
    {
      "cell_type": "code",
      "source": [
        "mcd(8,4)"
      ],
      "metadata": {
        "colab": {
          "base_uri": "https://localhost:8080/"
        },
        "id": "R72thFyu16AR",
        "outputId": "404c864e-a861-4474-cd55-9a3b0e1957c6"
      },
      "execution_count": 32,
      "outputs": [
        {
          "output_type": "execute_result",
          "data": {
            "text/plain": [
              "4"
            ]
          },
          "metadata": {},
          "execution_count": 32
        }
      ]
    }
  ]
}